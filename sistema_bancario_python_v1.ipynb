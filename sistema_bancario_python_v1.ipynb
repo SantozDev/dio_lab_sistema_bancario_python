{
 "cells": [
  {
   "cell_type": "markdown",
   "id": "790ba5de-bed5-47ca-9aa4-bcdf6b815afa",
   "metadata": {},
   "source": [
    "# Resolução do lab Criando um Sistema Bancário com Python, Bootcamp Engenharia de Dados da DIO + NTT DATTA"
   ]
  },
  {
   "cell_type": "markdown",
   "id": "34da9683-81fe-4f5d-b972-1749918ea798",
   "metadata": {},
   "source": [
    "## Objetivo Geral\n",
    "\n",
    "- Crie um sistema bancário com as opções de: sacar, depositar e visualizar extrato.\n",
    "- A v1 do projetoi trabalha apenas com um usuário.\n",
    "\n",
    "Operação de depósito:\n",
    "- Deve ser possível depositar valores positivos na minha conta bancária, todos os depósitos devem ser armazenados em numa variável e exibidos na operação de extrato.\n",
    "\n",
    "Operação de Saque:\n",
    "- O sistema deve permitir realizar 3 saques diários com o limite de R$ 500,00 por saque.\n",
    "- Caso não tenha saldo na conta, os sistema deve exibir uma mensagem informando que não será possível sacar o dinheiro por falta de saldo.\n",
    "- Todos os saques devem ser armazenados numa variável e exibidos na operação de extrato.\n",
    "\n",
    "Operação de extrato:\n",
    "- A operação deve listar todos os depósitos e saques realizados na conta. No fim da listagem deve ser exibido o saldo atual da conta.\n",
    "- Se o extrato estiver em branco, exibir a mensagem \"Não foram realizadas movimentações\".\n",
    "- Os valores devem ser exibidos utilizando o formato R$ xxx.xx\n",
    "___"
   ]
  },
  {
   "cell_type": "code",
   "execution_count": 1,
   "id": "346fd363-142f-44e5-9c9b-2b3b428cd930",
   "metadata": {},
   "outputs": [
    {
     "name": "stdin",
     "output_type": "stream",
     "text": [
      "\n",
      "Escolha uma opção: \n",
      "\n",
      "[1] Depósitar\n",
      "[2] Sacar\n",
      "[3] Extrato\n",
      "[4] Sair\n",
      "\n",
      "=>  1\n",
      "Qual valor deseja depositar?  820.60\n",
      "\n",
      "Escolha uma opção: \n",
      "\n",
      "[1] Depósitar\n",
      "[2] Sacar\n",
      "[3] Extrato\n",
      "[4] Sair\n",
      "\n",
      "=>  2\n",
      "Informe o valor do saque:  420\n",
      "\n",
      "Escolha uma opção: \n",
      "\n",
      "[1] Depósitar\n",
      "[2] Sacar\n",
      "[3] Extrato\n",
      "[4] Sair\n",
      "\n",
      "=>  2\n",
      "Informe o valor do saque:  100\n",
      "\n",
      "Escolha uma opção: \n",
      "\n",
      "[1] Depósitar\n",
      "[2] Sacar\n",
      "[3] Extrato\n",
      "[4] Sair\n",
      "\n",
      "=>  1\n",
      "Qual valor deseja depositar?  1580\n",
      "\n",
      "Escolha uma opção: \n",
      "\n",
      "[1] Depósitar\n",
      "[2] Sacar\n",
      "[3] Extrato\n",
      "[4] Sair\n",
      "\n",
      "=>  2\n",
      "Informe o valor do saque:  500\n",
      "\n",
      "Escolha uma opção: \n",
      "\n",
      "[1] Depósitar\n",
      "[2] Sacar\n",
      "[3] Extrato\n",
      "[4] Sair\n",
      "\n",
      "=>  2\n",
      "Informe o valor do saque:  500\n"
     ]
    },
    {
     "name": "stdout",
     "output_type": "stream",
     "text": [
      "Operação falhou! Você já atingiu o limite de saques hoje\n"
     ]
    },
    {
     "name": "stdin",
     "output_type": "stream",
     "text": [
      "\n",
      "Escolha uma opção: \n",
      "\n",
      "[1] Depósitar\n",
      "[2] Sacar\n",
      "[3] Extrato\n",
      "[4] Sair\n",
      "\n",
      "=>  3\n"
     ]
    },
    {
     "name": "stdout",
     "output_type": "stream",
     "text": [
      "=====================Extrato=====================\n",
      "Depósito: R$ 820.60\n",
      "Saque: R$ 420.00\n",
      "Saque: R$ 100.00\n",
      "Depósito: R$ 1580.00\n",
      "Saque: R$ 500.00\n",
      "\n",
      "\n",
      "Saldo: R$ 1380.60\n",
      "=================================================\n"
     ]
    },
    {
     "name": "stdin",
     "output_type": "stream",
     "text": [
      "\n",
      "Escolha uma opção: \n",
      "\n",
      "[1] Depósitar\n",
      "[2] Sacar\n",
      "[3] Extrato\n",
      "[4] Sair\n",
      "\n",
      "=>  4\n"
     ]
    },
    {
     "name": "stdout",
     "output_type": "stream",
     "text": [
      "Operação finalizada!\n"
     ]
    }
   ],
   "source": [
    "menu = \"\"\"\n",
    "Escolha uma opção: \n",
    "\n",
    "[1] Depósitar\n",
    "[2] Sacar\n",
    "[3] Extrato\n",
    "[4] Sair\n",
    "\n",
    "=> \"\"\"\n",
    "\n",
    "saldo = 0\n",
    "limite = 500\n",
    "extrato = \"\"\n",
    "contar_saques = 0\n",
    "LIMITE_SAQUES = 3\n",
    "\n",
    "while True:\n",
    "    opcao = int(input(menu))\n",
    "\n",
    "    if opcao == 1:\n",
    "        valor = float(input('Qual valor deseja depositar? '))\n",
    "\n",
    "        if valor > 0:\n",
    "            saldo += valor\n",
    "            extrato += f\"Depósito: R$ {valor:.2f}\\n\"\n",
    "        else:\n",
    "            print('Operação falhou!, insira um valor válido')\n",
    "\n",
    "    elif opcao == 2:\n",
    "        valor = float(input(\"Informe o valor do saque: \"))\n",
    "\n",
    "        excede_saldo = valor > saldo\n",
    "        excede_limite = valor > limite\n",
    "        excede_saques = contar_saques >= LIMITE_SAQUES\n",
    "\n",
    "        if excede_saldo:\n",
    "            print('Operação falhou! você não possui saldo o suficiente.')\n",
    "        elif excede_limite:\n",
    "            print('Operação falhou! o valor do saque excede o limite')\n",
    "        elif excede_saques:\n",
    "            print('Operação falhou! Você já atingiu o limite de saques hoje')\n",
    "        elif valor > 0:\n",
    "            saldo -= valor\n",
    "            extrato += f\"Saque: R$ {valor:.2f}\\n\"\n",
    "            contar_saques += 1\n",
    "        else:\n",
    "            print(\"Operação falhou! O valor informado é inválido.\")\n",
    "\n",
    "    elif opcao == 3:\n",
    "        print('=====================Extrato=====================')\n",
    "        print(\"Não foram realizadas movimentações.\" if not extrato else extrato)\n",
    "        print(f'\\nSaldo: R$ {saldo:.2f}')\n",
    "        print('=================================================')\n",
    "\n",
    "    elif opcao == 4:\n",
    "        print('Operação finalizada!')\n",
    "        break\n",
    "    else:\n",
    "        print('Operação inválida, por favor selecione novamente a operação desejada.')"
   ]
  }
 ],
 "metadata": {
  "kernelspec": {
   "display_name": "Python 3 (ipykernel)",
   "language": "python",
   "name": "python3"
  },
  "language_info": {
   "codemirror_mode": {
    "name": "ipython",
    "version": 3
   },
   "file_extension": ".py",
   "mimetype": "text/x-python",
   "name": "python",
   "nbconvert_exporter": "python",
   "pygments_lexer": "ipython3",
   "version": "3.10.12"
  }
 },
 "nbformat": 4,
 "nbformat_minor": 5
}
